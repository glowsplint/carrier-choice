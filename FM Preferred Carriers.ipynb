{
 "cells": [
  {
   "cell_type": "code",
   "execution_count": null,
   "metadata": {},
   "outputs": [],
   "source": [
    "import pkg_resources.py2_warn\n",
    "import pandas as pd\n",
    "import numpy as np\n",
    "import os\n",
    "\n",
    "from pathlib import Path\n",
    "from datetime import datetime"
   ]
  },
  {
   "cell_type": "code",
   "execution_count": null,
   "metadata": {},
   "outputs": [],
   "source": [
    "'''\n",
    "This script takes in a Freight Matrix file in the same directory as the executable,\n",
    "    and creates another file f'Carrier Choice - {date_string}.xlsx' which yields the\n",
    "    top 5 choices by cost (i.e. 1st choice = lowest cost)\n",
    "'''"
   ]
  },
  {
   "cell_type": "code",
   "execution_count": null,
   "metadata": {},
   "outputs": [],
   "source": [
    "print('Please type in the 3-letter BAF month. (e.g. jan, feb, mar, apr, may, jun, jul, aug, sep, oct, nov, dec)')\n",
    "baf_month = input()"
   ]
  },
  {
   "cell_type": "code",
   "execution_count": null,
   "metadata": {},
   "outputs": [],
   "source": [
    "allowed_months = ['jan', 'feb', 'mar', 'apr', 'may', 'jun', 'jul', 'aug', 'sep', 'oct', 'nov', 'dec']\n",
    "if baf_month not in allowed_months:\n",
    "    print('The month you have indicated is not permissible, please check your spelling.')\n",
    "    input()\n",
    "    raise Exception('The month you have indicated is not permissible, please check your spelling.')"
   ]
  },
  {
   "cell_type": "code",
   "execution_count": null,
   "metadata": {},
   "outputs": [],
   "source": [
    "files = list(Path(os.getcwd()).glob('Freight Matrix *.xlsx'))\n",
    "if len(files) == 1:\n",
    "    df = pd.read_excel(files[0].name, header=1)\n",
    "else:\n",
    "    raise FileExistsError(\n",
    "        'There are multiple Freight Matrix files that fit the pattern! Please include only one in the same directory as this script.')"
   ]
  },
  {
   "cell_type": "code",
   "execution_count": null,
   "metadata": {},
   "outputs": [],
   "source": [
    "print('Building carrier choice file...')"
   ]
  },
  {
   "cell_type": "code",
   "execution_count": null,
   "metadata": {},
   "outputs": [],
   "source": [
    "# Create additional identifier key columns\n",
    "df['plant_pod_ct'] = df['Plant'] + df['Port of Discharge'] + df['Container Type']\n",
    "df['plant_pod_carrier_ct'] = df['Plant'] + df['Port of Discharge'] + df['Carrier'] + df['Container Type']"
   ]
  },
  {
   "cell_type": "code",
   "execution_count": null,
   "metadata": {},
   "outputs": [],
   "source": [
    "# Filter by provided BAF Month, and drop\n",
    "new_df = (df.loc[df['BAF Month'].str.lower() == baf_month]\n",
    "            .sort_values('Total Logistics Cost USD')\n",
    "            .drop_duplicates(['plant_pod_carrier_ct']))"
   ]
  },
  {
   "cell_type": "code",
   "execution_count": null,
   "metadata": {},
   "outputs": [],
   "source": [
    "# Group by port pairs and sort by total logs cost\n",
    "grouped_df = (new_df\n",
    "              .groupby('plant_pod_ct')\n",
    "              .apply(pd.DataFrame.sort_values, 'Total Logistics Cost USD'))\n",
    "grouped_df"
   ]
  },
  {
   "cell_type": "code",
   "execution_count": null,
   "metadata": {},
   "outputs": [],
   "source": [
    "# Drop the first multiIndex level to prevent index and column having same name\n",
    "grouped_df.index = grouped_df.index.droplevel()\n",
    "grouped_df[['plant_pod_ct', 'Total Logistics Cost USD', 'Carrier', 'Container Type']]"
   ]
  },
  {
   "cell_type": "code",
   "execution_count": null,
   "metadata": {},
   "outputs": [],
   "source": [
    "# Convert all values the Carrier column, within a group, to a series of lists\n",
    "grouped_df = grouped_df.groupby('plant_pod_ct').agg({'Carrier': list})\n",
    "grouped_df"
   ]
  },
  {
   "cell_type": "code",
   "execution_count": null,
   "metadata": {},
   "outputs": [],
   "source": [
    "# Take only the first three choices\n",
    "choices = ['1st choice', '2nd choice',\n",
    "           '3rd choice', '4th choice', '5th choice']\n",
    "grouped_df[choices] = pd.DataFrame(grouped_df['Carrier'].to_list(),\n",
    "                                   index=grouped_df.index)[[0, 1, 2, 3, 4]]\n",
    "grouped_df.drop('Carrier', inplace=True, axis=1)\n",
    "grouped_df.reset_index(inplace=True)"
   ]
  },
  {
   "cell_type": "code",
   "execution_count": null,
   "metadata": {},
   "outputs": [],
   "source": [
    "# Assembling the final output\n",
    "final_columns = ['Plant', 'Port of Loading',\n",
    "                 'Port of Discharge', 'Port of Discharge Name', 'Container Type', 'BAF Month']\n",
    "\n",
    "final_df = grouped_df.merge(new_df.drop_duplicates('plant_pod_ct')[\n",
    "                            final_columns + ['plant_pod_ct']], on='plant_pod_ct')\n",
    "\n",
    "\n",
    "final_df = final_df[final_columns + choices]"
   ]
  },
  {
   "cell_type": "code",
   "execution_count": null,
   "metadata": {},
   "outputs": [],
   "source": [
    "final_df"
   ]
  },
  {
   "cell_type": "code",
   "execution_count": null,
   "metadata": {},
   "outputs": [],
   "source": [
    "final_df.to_excel('Carrier Choice - additional.xlsx', index=False)"
   ]
  },
  {
   "cell_type": "markdown",
   "metadata": {},
   "source": [
    "## Testing"
   ]
  },
  {
   "cell_type": "code",
   "execution_count": null,
   "metadata": {},
   "outputs": [],
   "source": [
    "final_df.loc[(final_df['Port of Loading'] == 'AUBNE') & (final_df['Port of Discharge'] == 'CAVAN')]"
   ]
  },
  {
   "cell_type": "code",
   "execution_count": null,
   "metadata": {},
   "outputs": [],
   "source": [
    "pd.set_option('display.max_columns', None)"
   ]
  },
  {
   "cell_type": "code",
   "execution_count": null,
   "metadata": {},
   "outputs": [],
   "source": [
    "grouped_df.loc[grouped_df.port_pair == 'AUBNECAVAN'][['Carrier','Total Logistics Cost USD']]"
   ]
  }
 ],
 "metadata": {
  "kernelspec": {
   "display_name": "Python 3",
   "language": "python",
   "name": "python3"
  },
  "language_info": {
   "codemirror_mode": {
    "name": "ipython",
    "version": 3
   },
   "file_extension": ".py",
   "mimetype": "text/x-python",
   "name": "python",
   "nbconvert_exporter": "python",
   "pygments_lexer": "ipython3",
   "version": "3.7.6"
  }
 },
 "nbformat": 4,
 "nbformat_minor": 4
}
